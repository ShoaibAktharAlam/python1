{
 "cells": [
  {
   "attachments": {},
   "cell_type": "markdown",
   "metadata": {},
   "source": [
    "## Write a Python program to solve the equation z = |x  y| * (x + y)."
   ]
  },
  {
   "cell_type": "code",
   "execution_count": 8,
   "metadata": {},
   "outputs": [
    {
     "name": "stdout",
     "output_type": "stream",
     "text": [
      "The result is : 75\n"
     ]
    }
   ],
   "source": [
    "x=int(input(\"Enter the first number:\"))\n",
    "y=int(input(\"Enter the second number:\"))\n",
    "z=abs((x+y)*(x-y))\n",
    "print(\"The result is :\",z)"
   ]
  },
  {
   "attachments": {},
   "cell_type": "markdown",
   "metadata": {},
   "source": [
    "## Write a Python program to calculate the surface volume and area of a cylinder."
   ]
  },
  {
   "cell_type": "code",
   "execution_count": 11,
   "metadata": {},
   "outputs": [
    {
     "name": "stdout",
     "output_type": "stream",
     "text": [
      "Volume is: 785.0\n",
      "Surface area is: 471.0\n"
     ]
    }
   ],
   "source": [
    "pi=3.14\n",
    "radius=int(input(\"Enter the radius:\"))\n",
    "height=int(input(\"Enter the height:\"))\n",
    "volume= pi*radius*radius*height\n",
    "surfacearea=(((2*pi*radius)*height)+((pi*radius**2)*2))\n",
    "print(\"Volume is:\",volume)\n",
    "print(\"Surface area is:\",surfacearea);"
   ]
  },
  {
   "attachments": {},
   "cell_type": "markdown",
   "metadata": {},
   "source": [
    "###### Write a Python program to calculate the wind chill index.\n",
    "The given program calculates the wind chill index using the temperature and wind speed entered by the user. The wind chill index is an estimate of how cold the air feels to the human body, taking into account the cooling effect of the wind on the skin.\n",
    "prompts the user to enter the wind speed in kilometers per hour and the temperature in degrees Celsius using the input() function.\n",
    "The program calculates the wind chill index using the formula:\n",
    "13.12 + 0.6215*t - 11.37*v**0.16 + 0.3965*t*v**0.16\n",
    "where t is the temperature in degrees Celsius and v is the wind speed in kilometers per hour. \n"
   ]
  },
  {
   "cell_type": "code",
   "execution_count": null,
   "metadata": {},
   "outputs": [
    {
     "name": "stdout",
     "output_type": "stream",
     "text": [
      "The wind chill index is: 771\n"
     ]
    }
   ],
   "source": [
    "import math\n",
    "v=int(input(\"Enter the velocity:\"))\n",
    "t=int(input(\"Enter the temperature:\"))\n",
    "wci=(13.12+0.6215*t-11.37*0.16+0.3965*t*v*0.16)\n",
    "print(\"The wind chill index is:\",math.floor(wci))"
   ]
  }
 ],
 "metadata": {
  "kernelspec": {
   "display_name": "Python 3",
   "language": "python",
   "name": "python3"
  },
  "language_info": {
   "codemirror_mode": {
    "name": "ipython",
    "version": 3
   },
   "file_extension": ".py",
   "mimetype": "text/x-python",
   "name": "python",
   "nbconvert_exporter": "python",
   "pygments_lexer": "ipython3",
   "version": "3.10.4"
  },
  "orig_nbformat": 4
 },
 "nbformat": 4,
 "nbformat_minor": 2
}
